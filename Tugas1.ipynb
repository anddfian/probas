{
 "cells": [
  {
   "cell_type": "markdown",
   "id": "20a70e2b",
   "metadata": {},
   "source": [
    "## Import library pandas"
   ]
  },
  {
   "cell_type": "code",
   "execution_count": 1,
   "id": "42ef4edb",
   "metadata": {},
   "outputs": [],
   "source": [
    "import pandas as pd\n",
    "import numpy as np\n",
    "import matplotlib.pyplot as plt\n",
    "%matplotlib inline"
   ]
  },
  {
   "cell_type": "markdown",
   "id": "700c8d9d",
   "metadata": {},
   "source": [
    "# Baca data CSV"
   ]
  },
  {
   "cell_type": "code",
   "execution_count": 2,
   "id": "b53d0bcf",
   "metadata": {},
   "outputs": [],
   "source": [
    "df_students_performance = pd.read_csv(\"StudentsPerformance.csv\")"
   ]
  },
  {
   "cell_type": "markdown",
   "id": "cfb1c2ff",
   "metadata": {},
   "source": [
    "# Lihat data CSV"
   ]
  },
  {
   "cell_type": "code",
   "execution_count": 3,
   "id": "971b480d",
   "metadata": {},
   "outputs": [
    {
     "data": {
      "text/html": [
       "<div>\n",
       "<style scoped>\n",
       "    .dataframe tbody tr th:only-of-type {\n",
       "        vertical-align: middle;\n",
       "    }\n",
       "\n",
       "    .dataframe tbody tr th {\n",
       "        vertical-align: top;\n",
       "    }\n",
       "\n",
       "    .dataframe thead th {\n",
       "        text-align: right;\n",
       "    }\n",
       "</style>\n",
       "<table border=\"1\" class=\"dataframe\">\n",
       "  <thead>\n",
       "    <tr style=\"text-align: right;\">\n",
       "      <th></th>\n",
       "      <th>gender</th>\n",
       "      <th>race/ethnicity</th>\n",
       "      <th>parental level of education</th>\n",
       "      <th>lunch</th>\n",
       "      <th>test preparation course</th>\n",
       "      <th>math_score</th>\n",
       "      <th>reading_score</th>\n",
       "      <th>writing_score</th>\n",
       "    </tr>\n",
       "  </thead>\n",
       "  <tbody>\n",
       "    <tr>\n",
       "      <th>0</th>\n",
       "      <td>female</td>\n",
       "      <td>group B</td>\n",
       "      <td>bachelor's degree</td>\n",
       "      <td>standard</td>\n",
       "      <td>none</td>\n",
       "      <td>72</td>\n",
       "      <td>72</td>\n",
       "      <td>74</td>\n",
       "    </tr>\n",
       "    <tr>\n",
       "      <th>1</th>\n",
       "      <td>female</td>\n",
       "      <td>group C</td>\n",
       "      <td>some college</td>\n",
       "      <td>standard</td>\n",
       "      <td>completed</td>\n",
       "      <td>69</td>\n",
       "      <td>90</td>\n",
       "      <td>88</td>\n",
       "    </tr>\n",
       "    <tr>\n",
       "      <th>2</th>\n",
       "      <td>female</td>\n",
       "      <td>group B</td>\n",
       "      <td>master's degree</td>\n",
       "      <td>standard</td>\n",
       "      <td>none</td>\n",
       "      <td>90</td>\n",
       "      <td>95</td>\n",
       "      <td>93</td>\n",
       "    </tr>\n",
       "    <tr>\n",
       "      <th>3</th>\n",
       "      <td>male</td>\n",
       "      <td>group A</td>\n",
       "      <td>associate's degree</td>\n",
       "      <td>free/reduced</td>\n",
       "      <td>none</td>\n",
       "      <td>47</td>\n",
       "      <td>57</td>\n",
       "      <td>44</td>\n",
       "    </tr>\n",
       "    <tr>\n",
       "      <th>4</th>\n",
       "      <td>male</td>\n",
       "      <td>group C</td>\n",
       "      <td>some college</td>\n",
       "      <td>standard</td>\n",
       "      <td>none</td>\n",
       "      <td>76</td>\n",
       "      <td>78</td>\n",
       "      <td>75</td>\n",
       "    </tr>\n",
       "  </tbody>\n",
       "</table>\n",
       "</div>"
      ],
      "text/plain": [
       "   gender race/ethnicity parental level of education         lunch  \\\n",
       "0  female        group B           bachelor's degree      standard   \n",
       "1  female        group C                some college      standard   \n",
       "2  female        group B             master's degree      standard   \n",
       "3    male        group A          associate's degree  free/reduced   \n",
       "4    male        group C                some college      standard   \n",
       "\n",
       "  test preparation course  math_score  reading_score  writing_score  \n",
       "0                    none          72             72             74  \n",
       "1               completed          69             90             88  \n",
       "2                    none          90             95             93  \n",
       "3                    none          47             57             44  \n",
       "4                    none          76             78             75  "
      ]
     },
     "execution_count": 3,
     "metadata": {},
     "output_type": "execute_result"
    }
   ],
   "source": [
    "df_students_performance.head()"
   ]
  },
  {
   "cell_type": "code",
   "execution_count": 4,
   "id": "edeccd8d",
   "metadata": {},
   "outputs": [
    {
     "name": "stdout",
     "output_type": "stream",
     "text": [
      "<class 'pandas.core.frame.DataFrame'>\n",
      "RangeIndex: 1000 entries, 0 to 999\n",
      "Data columns (total 8 columns):\n",
      " #   Column                       Non-Null Count  Dtype \n",
      "---  ------                       --------------  ----- \n",
      " 0   gender                       1000 non-null   object\n",
      " 1   race/ethnicity               1000 non-null   object\n",
      " 2   parental level of education  1000 non-null   object\n",
      " 3   lunch                        1000 non-null   object\n",
      " 4   test preparation course      1000 non-null   object\n",
      " 5   math_score                   1000 non-null   int64 \n",
      " 6   reading_score                1000 non-null   int64 \n",
      " 7   writing_score                1000 non-null   int64 \n",
      "dtypes: int64(3), object(5)\n",
      "memory usage: 62.6+ KB\n"
     ]
    }
   ],
   "source": [
    "df_students_performance.info()"
   ]
  },
  {
   "cell_type": "markdown",
   "id": "058936b0",
   "metadata": {},
   "source": [
    "## Jenis / Tipe Data Variabel Dataset\n",
    "- gender (Kategorikal)\n",
    "- race/ethnicity (Kategorikal)\n",
    "- parental level of education (Kategorikal)\n",
    "- lunch (Kategorikal)\n",
    "- test preparation course (Kategorikal)\n",
    "- math_score (Numerikal Diskrit)\n",
    "- reading_score (Numerikal Diskrit)\n",
    "- writing_score (Numerikal Diskrit)"
   ]
  },
  {
   "cell_type": "markdown",
   "id": "7de5533d",
   "metadata": {},
   "source": [
    "# A. Buat Tabel Distribusi Frekuensi dan Histogram Variabe reading_score dan writing_score dengan jumlah dan lebar interval sebesar 10."
   ]
  },
  {
   "cell_type": "markdown",
   "id": "c7f1716d",
   "metadata": {},
   "source": [
    "## Tabel Distribusi Frekensi"
   ]
  },
  {
   "cell_type": "markdown",
   "id": "0fbbfc36",
   "metadata": {},
   "source": [
    "### reading_score"
   ]
  },
  {
   "cell_type": "code",
   "execution_count": 5,
   "id": "423f2cfc",
   "metadata": {},
   "outputs": [],
   "source": [
    "def tabel_distribusi_frekuensi(data_terurut, lebar_kelas=10):\n",
    "    nilai_terkecil = data_terurut[0]\n",
    "    nilai_terbesar = data_terurut[len(data_terurut)-1]\n",
    "    bins = []\n",
    "    \n",
    "    i = nilai_terkecil.copy() - 1\n",
    "    while True:\n",
    "        if i < nilai_terbesar:\n",
    "            bins.append(i)\n",
    "        else:\n",
    "            bins.append(i)\n",
    "            break\n",
    "        i += 10\n",
    "    \n",
    "    data_bins = pd.cut(data_terurut, bins=bins)\n",
    "\n",
    "    distribusi_frekuensi = pd.DataFrame(data_bins.value_counts().sort_index().rename(\"frekuensi\")).reset_index()\n",
    "    return distribusi_frekuensi.rename(columns={\"index\": \"interval\"})\n",
    "\n",
    "def plot_histogram(tabel_distribusi, title):\n",
    "    plt.figure(figsize=(28,9))\n",
    "    ax = tabel_distribusi.plot(kind='bar', align='center', width=1.0, legend=None)\n",
    "    ax.set_xticks(np.arange(len(tabel_distribusi)))\n",
    "    ax.set_xticklabels(tabel_distribusi['interval'], rotation=0)\n",
    "    ax.set_xlabel(\"Interval\")\n",
    "    ax.set_ylabel(\"Frekuensi\")\n",
    "    ax.set_title(title)\n",
    "    plt.show()"
   ]
  },
  {
   "cell_type": "code",
   "execution_count": 6,
   "id": "ff328ea5",
   "metadata": {},
   "outputs": [
    {
     "data": {
      "text/html": [
       "<div>\n",
       "<style scoped>\n",
       "    .dataframe tbody tr th:only-of-type {\n",
       "        vertical-align: middle;\n",
       "    }\n",
       "\n",
       "    .dataframe tbody tr th {\n",
       "        vertical-align: top;\n",
       "    }\n",
       "\n",
       "    .dataframe thead th {\n",
       "        text-align: right;\n",
       "    }\n",
       "</style>\n",
       "<table border=\"1\" class=\"dataframe\">\n",
       "  <thead>\n",
       "    <tr style=\"text-align: right;\">\n",
       "      <th></th>\n",
       "      <th>interval</th>\n",
       "      <th>frekuensi</th>\n",
       "    </tr>\n",
       "  </thead>\n",
       "  <tbody>\n",
       "    <tr>\n",
       "      <th>0</th>\n",
       "      <td>(16, 26]</td>\n",
       "      <td>5</td>\n",
       "    </tr>\n",
       "    <tr>\n",
       "      <th>1</th>\n",
       "      <td>(26, 36]</td>\n",
       "      <td>10</td>\n",
       "    </tr>\n",
       "    <tr>\n",
       "      <th>2</th>\n",
       "      <td>(36, 46]</td>\n",
       "      <td>51</td>\n",
       "    </tr>\n",
       "    <tr>\n",
       "      <th>3</th>\n",
       "      <td>(46, 56]</td>\n",
       "      <td>126</td>\n",
       "    </tr>\n",
       "    <tr>\n",
       "      <th>4</th>\n",
       "      <td>(56, 66]</td>\n",
       "      <td>227</td>\n",
       "    </tr>\n",
       "    <tr>\n",
       "      <th>5</th>\n",
       "      <td>(66, 76]</td>\n",
       "      <td>262</td>\n",
       "    </tr>\n",
       "    <tr>\n",
       "      <th>6</th>\n",
       "      <td>(76, 86]</td>\n",
       "      <td>206</td>\n",
       "    </tr>\n",
       "    <tr>\n",
       "      <th>7</th>\n",
       "      <td>(86, 96]</td>\n",
       "      <td>88</td>\n",
       "    </tr>\n",
       "    <tr>\n",
       "      <th>8</th>\n",
       "      <td>(96, 106]</td>\n",
       "      <td>25</td>\n",
       "    </tr>\n",
       "  </tbody>\n",
       "</table>\n",
       "</div>"
      ],
      "text/plain": [
       "    interval  frekuensi\n",
       "0   (16, 26]          5\n",
       "1   (26, 36]         10\n",
       "2   (36, 46]         51\n",
       "3   (46, 56]        126\n",
       "4   (56, 66]        227\n",
       "5   (66, 76]        262\n",
       "6   (76, 86]        206\n",
       "7   (86, 96]         88\n",
       "8  (96, 106]         25"
      ]
     },
     "execution_count": 6,
     "metadata": {},
     "output_type": "execute_result"
    }
   ],
   "source": [
    "data_read_scr = df_students_performance.reading_score.sort_values().reset_index(drop=True)\n",
    "rse_dist_table = tabel_distribusi_frekuensi(data_read_scr)\n",
    "\n",
    "rse_dist_table"
   ]
  },
  {
   "cell_type": "code",
   "execution_count": 7,
   "id": "890461f7",
   "metadata": {},
   "outputs": [
    {
     "data": {
      "text/plain": [
       "<Figure size 2016x648 with 0 Axes>"
      ]
     },
     "metadata": {},
     "output_type": "display_data"
    },
    {
     "data": {
      "image/png": "[encoded data removed]",
      "text/plain": [
       "<Figure size 432x288 with 1 Axes>"
      ]
     },
     "metadata": {
      "needs_background": "light"
     },
     "output_type": "display_data"
    }
   ],
   "source": [
    "plot_histogram(rse_dist_table, \"Histogram reading_score\")"
   ]
  },
  {
   "cell_type": "code",
   "execution_count": 8,
   "id": "d50e3639",
   "metadata": {},
   "outputs": [
    {
     "data": {
      "text/html": [
       "<div>\n",
       "<style scoped>\n",
       "    .dataframe tbody tr th:only-of-type {\n",
       "        vertical-align: middle;\n",
       "    }\n",
       "\n",
       "    .dataframe tbody tr th {\n",
       "        vertical-align: top;\n",
       "    }\n",
       "\n",
       "    .dataframe thead th {\n",
       "        text-align: right;\n",
       "    }\n",
       "</style>\n",
       "<table border=\"1\" class=\"dataframe\">\n",
       "  <thead>\n",
       "    <tr style=\"text-align: right;\">\n",
       "      <th></th>\n",
       "      <th>interval</th>\n",
       "      <th>frekuensi</th>\n",
       "    </tr>\n",
       "  </thead>\n",
       "  <tbody>\n",
       "    <tr>\n",
       "      <th>0</th>\n",
       "      <td>(9, 19]</td>\n",
       "      <td>3</td>\n",
       "    </tr>\n",
       "    <tr>\n",
       "      <th>1</th>\n",
       "      <td>(19, 29]</td>\n",
       "      <td>6</td>\n",
       "    </tr>\n",
       "    <tr>\n",
       "      <th>2</th>\n",
       "      <td>(29, 39]</td>\n",
       "      <td>23</td>\n",
       "    </tr>\n",
       "    <tr>\n",
       "      <th>3</th>\n",
       "      <td>(39, 49]</td>\n",
       "      <td>82</td>\n",
       "    </tr>\n",
       "    <tr>\n",
       "      <th>4</th>\n",
       "      <td>(49, 59]</td>\n",
       "      <td>167</td>\n",
       "    </tr>\n",
       "    <tr>\n",
       "      <th>5</th>\n",
       "      <td>(59, 69]</td>\n",
       "      <td>230</td>\n",
       "    </tr>\n",
       "    <tr>\n",
       "      <th>6</th>\n",
       "      <td>(69, 79]</td>\n",
       "      <td>254</td>\n",
       "    </tr>\n",
       "    <tr>\n",
       "      <th>7</th>\n",
       "      <td>(79, 89]</td>\n",
       "      <td>157</td>\n",
       "    </tr>\n",
       "    <tr>\n",
       "      <th>8</th>\n",
       "      <td>(89, 99]</td>\n",
       "      <td>64</td>\n",
       "    </tr>\n",
       "    <tr>\n",
       "      <th>9</th>\n",
       "      <td>(99, 109]</td>\n",
       "      <td>14</td>\n",
       "    </tr>\n",
       "  </tbody>\n",
       "</table>\n",
       "</div>"
      ],
      "text/plain": [
       "    interval  frekuensi\n",
       "0    (9, 19]          3\n",
       "1   (19, 29]          6\n",
       "2   (29, 39]         23\n",
       "3   (39, 49]         82\n",
       "4   (49, 59]        167\n",
       "5   (59, 69]        230\n",
       "6   (69, 79]        254\n",
       "7   (79, 89]        157\n",
       "8   (89, 99]         64\n",
       "9  (99, 109]         14"
      ]
     },
     "execution_count": 8,
     "metadata": {},
     "output_type": "execute_result"
    }
   ],
   "source": [
    "data_write_scr = df_students_performance.writing_score.sort_values().reset_index(drop=True)\n",
    "wsr_dist_table = tabel_distribusi_frekuensi(data_write_scr)\n",
    "\n",
    "wsr_dist_table"
   ]
  },
  {
   "cell_type": "code",
   "execution_count": 9,
   "id": "d9b5a729",
   "metadata": {},
   "outputs": [
    {
     "data": {
      "text/plain": [
       "<Figure size 2016x648 with 0 Axes>"
      ]
     },
     "metadata": {},
     "output_type": "display_data"
    },
    {
     "data": {
      "image/png": "[encoded data removed]",
      "text/plain": [
       "<Figure size 432x288 with 1 Axes>"
      ]
     },
     "metadata": {
      "needs_background": "light"
     },
     "output_type": "display_data"
    }
   ],
   "source": [
    "plot_histogram(wsr_dist_table, \"Histogram writing_score\")"
   ]
  },
  {
   "cell_type": "markdown",
   "id": "0fa7008b",
   "metadata": {},
   "source": [
    "### writing_score"
   ]
  },
  {
   "cell_type": "code",
   "execution_count": 10,
   "id": "cea9195c",
   "metadata": {},
   "outputs": [
    {
     "data": {
      "text/plain": [
       "74    35\n",
       "70    33\n",
       "68    31\n",
       "73    28\n",
       "80    27\n",
       "      ..\n",
       "28     1\n",
       "35     1\n",
       "19     1\n",
       "22     1\n",
       "23     1\n",
       "Name: writing_score, Length: 77, dtype: int64"
      ]
     },
     "execution_count": 10,
     "metadata": {},
     "output_type": "execute_result"
    }
   ],
   "source": [
    "df_students_performance['writing_score'].value_counts()"
   ]
  },
  {
   "cell_type": "markdown",
   "id": "84a62f7a",
   "metadata": {},
   "source": [
    "## Histrogram"
   ]
  },
  {
   "cell_type": "markdown",
   "id": "cb308813",
   "metadata": {},
   "source": [
    "### reading_score"
   ]
  },
  {
   "cell_type": "code",
   "execution_count": 11,
   "id": "a7b3536c",
   "metadata": {},
   "outputs": [
    {
     "data": {
      "text/plain": [
       "<AxesSubplot:>"
      ]
     },
     "execution_count": 11,
     "metadata": {},
     "output_type": "execute_result"
    },
    {
     "data": {
      "image/png": "[encoded data removed]",
      "text/plain": [
       "<Figure size 432x288 with 1 Axes>"
      ]
     },
     "metadata": {
      "needs_background": "light"
     },
     "output_type": "display_data"
    }
   ],
   "source": [
    "df_students_performance['reading_score'].value_counts().hist()"
   ]
  },
  {
   "cell_type": "markdown",
   "id": "8a38c140",
   "metadata": {},
   "source": [
    "### writing_score"
   ]
  },
  {
   "cell_type": "code",
   "execution_count": 12,
   "id": "b378cedd",
   "metadata": {},
   "outputs": [
    {
     "data": {
      "text/plain": [
       "<AxesSubplot:>"
      ]
     },
     "execution_count": 12,
     "metadata": {},
     "output_type": "execute_result"
    },
    {
     "data": {
      "image/png": "[encoded data removed]",
      "text/plain": [
       "<Figure size 432x288 with 1 Axes>"
      ]
     },
     "metadata": {
      "needs_background": "light"
     },
     "output_type": "display_data"
    }
   ],
   "source": [
    "df_students_performance['writing_score'].value_counts().hist()"
   ]
  },
  {
   "cell_type": "markdown",
   "id": "ee586eef",
   "metadata": {},
   "source": [
    "# B. Tentukan nilai Tendensi Central: Rata-rata, Median, Modus, Min dan Max data kedua variable tersebut"
   ]
  },
  {
   "cell_type": "markdown",
   "id": "86ef0891",
   "metadata": {},
   "source": [
    "## Rata-rata"
   ]
  },
  {
   "cell_type": "markdown",
   "id": "0e66968b",
   "metadata": {},
   "source": [
    "### reading_score"
   ]
  },
  {
   "cell_type": "code",
   "execution_count": 13,
   "id": "e6dc29bd",
   "metadata": {},
   "outputs": [
    {
     "data": {
      "text/plain": [
       "69.169"
      ]
     },
     "execution_count": 13,
     "metadata": {},
     "output_type": "execute_result"
    }
   ],
   "source": [
    "df_students_performance['reading_score'].mean()"
   ]
  },
  {
   "cell_type": "markdown",
   "id": "ed98f9d3",
   "metadata": {},
   "source": [
    "### writing_score"
   ]
  },
  {
   "cell_type": "code",
   "execution_count": 14,
   "id": "b38896f2",
   "metadata": {},
   "outputs": [
    {
     "data": {
      "text/plain": [
       "68.054"
      ]
     },
     "execution_count": 14,
     "metadata": {},
     "output_type": "execute_result"
    }
   ],
   "source": [
    "df_students_performance['writing_score'].mean()"
   ]
  },
  {
   "cell_type": "markdown",
   "id": "02728a79",
   "metadata": {},
   "source": [
    "## Median"
   ]
  },
  {
   "cell_type": "markdown",
   "id": "56343699",
   "metadata": {},
   "source": [
    "### reading_score"
   ]
  },
  {
   "cell_type": "code",
   "execution_count": 15,
   "id": "35abf19b",
   "metadata": {},
   "outputs": [
    {
     "data": {
      "text/plain": [
       "70.0"
      ]
     },
     "execution_count": 15,
     "metadata": {},
     "output_type": "execute_result"
    }
   ],
   "source": [
    "df_students_performance['reading_score'].median()"
   ]
  },
  {
   "cell_type": "markdown",
   "id": "f462d2b7",
   "metadata": {},
   "source": [
    "### writing_score"
   ]
  },
  {
   "cell_type": "code",
   "execution_count": 16,
   "id": "e4248430",
   "metadata": {},
   "outputs": [
    {
     "data": {
      "text/plain": [
       "69.0"
      ]
     },
     "execution_count": 16,
     "metadata": {},
     "output_type": "execute_result"
    }
   ],
   "source": [
    "df_students_performance['writing_score'].median()"
   ]
  },
  {
   "cell_type": "markdown",
   "id": "97a6ace8",
   "metadata": {},
   "source": [
    "## Modus"
   ]
  },
  {
   "cell_type": "markdown",
   "id": "eca4ecff",
   "metadata": {},
   "source": [
    "### reading_score"
   ]
  },
  {
   "cell_type": "code",
   "execution_count": 17,
   "id": "ae7842a6",
   "metadata": {},
   "outputs": [
    {
     "data": {
      "text/plain": [
       "0    72\n",
       "dtype: int64"
      ]
     },
     "execution_count": 17,
     "metadata": {},
     "output_type": "execute_result"
    }
   ],
   "source": [
    "df_students_performance['reading_score'].mode()"
   ]
  },
  {
   "cell_type": "markdown",
   "id": "12ebbe44",
   "metadata": {},
   "source": [
    "### writing_score"
   ]
  },
  {
   "cell_type": "code",
   "execution_count": 18,
   "id": "c1c83fd8",
   "metadata": {},
   "outputs": [
    {
     "data": {
      "text/plain": [
       "0    74\n",
       "dtype: int64"
      ]
     },
     "execution_count": 18,
     "metadata": {},
     "output_type": "execute_result"
    }
   ],
   "source": [
    "df_students_performance['writing_score'].mode()"
   ]
  },
  {
   "cell_type": "markdown",
   "id": "03f1b8ec",
   "metadata": {},
   "source": [
    "## Min"
   ]
  },
  {
   "cell_type": "markdown",
   "id": "4e7e95ba",
   "metadata": {},
   "source": [
    "### reading_score"
   ]
  },
  {
   "cell_type": "code",
   "execution_count": 19,
   "id": "3c4a9936",
   "metadata": {},
   "outputs": [
    {
     "data": {
      "text/plain": [
       "17"
      ]
     },
     "execution_count": 19,
     "metadata": {},
     "output_type": "execute_result"
    }
   ],
   "source": [
    "df_students_performance['reading_score'].min()"
   ]
  },
  {
   "cell_type": "markdown",
   "id": "72df639d",
   "metadata": {},
   "source": [
    "### writing_score"
   ]
  },
  {
   "cell_type": "code",
   "execution_count": 20,
   "id": "5a6a66c2",
   "metadata": {},
   "outputs": [
    {
     "data": {
      "text/plain": [
       "10"
      ]
     },
     "execution_count": 20,
     "metadata": {},
     "output_type": "execute_result"
    }
   ],
   "source": [
    "df_students_performance['writing_score'].min()"
   ]
  },
  {
   "cell_type": "markdown",
   "id": "fa5de496",
   "metadata": {},
   "source": [
    "## Max"
   ]
  },
  {
   "cell_type": "markdown",
   "id": "3be50930",
   "metadata": {},
   "source": [
    "### reading_score"
   ]
  },
  {
   "cell_type": "code",
   "execution_count": 21,
   "id": "a021a88f",
   "metadata": {},
   "outputs": [
    {
     "data": {
      "text/plain": [
       "100"
      ]
     },
     "execution_count": 21,
     "metadata": {},
     "output_type": "execute_result"
    }
   ],
   "source": [
    "df_students_performance['reading_score'].max()"
   ]
  },
  {
   "cell_type": "markdown",
   "id": "ca568cc8",
   "metadata": {},
   "source": [
    "### writing_score"
   ]
  },
  {
   "cell_type": "code",
   "execution_count": 22,
   "id": "61a14ef6",
   "metadata": {},
   "outputs": [
    {
     "data": {
      "text/plain": [
       "100"
      ]
     },
     "execution_count": 22,
     "metadata": {},
     "output_type": "execute_result"
    }
   ],
   "source": [
    "df_students_performance['writing_score'].max()"
   ]
  },
  {
   "cell_type": "markdown",
   "id": "eccea727",
   "metadata": {},
   "source": [
    "# C. Tentukan nilai Variasi: Jangkauan Range, Kisaran Interkuartil, Varians, Standar Deviasi data reading_score dan writing_score"
   ]
  },
  {
   "cell_type": "markdown",
   "id": "f3c106ff",
   "metadata": {},
   "source": [
    "## Jangkauan Range"
   ]
  },
  {
   "cell_type": "markdown",
   "id": "aff85d35",
   "metadata": {},
   "source": [
    "### reading_score"
   ]
  },
  {
   "cell_type": "code",
   "execution_count": 23,
   "id": "491db2d3",
   "metadata": {},
   "outputs": [
    {
     "data": {
      "text/plain": [
       "83"
      ]
     },
     "execution_count": 23,
     "metadata": {},
     "output_type": "execute_result"
    }
   ],
   "source": [
    "df_students_performance['reading_score'].max() - df_students_performance['reading_score'].min()"
   ]
  },
  {
   "cell_type": "markdown",
   "id": "7cb14766",
   "metadata": {},
   "source": [
    "### writing_score"
   ]
  },
  {
   "cell_type": "code",
   "execution_count": 24,
   "id": "3bcc4da4",
   "metadata": {},
   "outputs": [
    {
     "data": {
      "text/plain": [
       "90"
      ]
     },
     "execution_count": 24,
     "metadata": {},
     "output_type": "execute_result"
    }
   ],
   "source": [
    "df_students_performance['writing_score'].max() - df_students_performance['writing_score'].min()"
   ]
  },
  {
   "cell_type": "markdown",
   "id": "23f24e67",
   "metadata": {},
   "source": [
    "## Interkuartil"
   ]
  },
  {
   "cell_type": "markdown",
   "id": "9f0c0586",
   "metadata": {},
   "source": [
    "### reading_score"
   ]
  },
  {
   "cell_type": "markdown",
   "id": "efc79b99",
   "metadata": {},
   "source": [
    "#### Q1"
   ]
  },
  {
   "cell_type": "code",
   "execution_count": 25,
   "id": "53f788ce",
   "metadata": {},
   "outputs": [
    {
     "data": {
      "text/plain": [
       "59.0"
      ]
     },
     "execution_count": 25,
     "metadata": {},
     "output_type": "execute_result"
    }
   ],
   "source": [
    "df_students_performance['reading_score'].quantile(0.25)"
   ]
  },
  {
   "cell_type": "markdown",
   "id": "f6d8e58c",
   "metadata": {},
   "source": [
    "#### Q2"
   ]
  },
  {
   "cell_type": "code",
   "execution_count": 26,
   "id": "d2dde705",
   "metadata": {},
   "outputs": [
    {
     "data": {
      "text/plain": [
       "70.0"
      ]
     },
     "execution_count": 26,
     "metadata": {},
     "output_type": "execute_result"
    }
   ],
   "source": [
    "df_students_performance['reading_score'].quantile(0.50)"
   ]
  },
  {
   "cell_type": "markdown",
   "id": "8dc8cf87",
   "metadata": {},
   "source": [
    "#### Q3"
   ]
  },
  {
   "cell_type": "code",
   "execution_count": 27,
   "id": "e6c1e1cb",
   "metadata": {},
   "outputs": [
    {
     "data": {
      "text/plain": [
       "79.0"
      ]
     },
     "execution_count": 27,
     "metadata": {},
     "output_type": "execute_result"
    }
   ],
   "source": [
    "df_students_performance['reading_score'].quantile(0.75)"
   ]
  },
  {
   "cell_type": "markdown",
   "id": "d51bf45e",
   "metadata": {},
   "source": [
    "### writing_score"
   ]
  },
  {
   "cell_type": "markdown",
   "id": "05013bb5",
   "metadata": {},
   "source": [
    "#### Q1"
   ]
  },
  {
   "cell_type": "code",
   "execution_count": 28,
   "id": "96f8e674",
   "metadata": {},
   "outputs": [
    {
     "data": {
      "text/plain": [
       "57.75"
      ]
     },
     "execution_count": 28,
     "metadata": {},
     "output_type": "execute_result"
    }
   ],
   "source": [
    "df_students_performance['writing_score'].quantile(0.25)"
   ]
  },
  {
   "cell_type": "markdown",
   "id": "67f90eaf",
   "metadata": {},
   "source": [
    "#### Q2"
   ]
  },
  {
   "cell_type": "code",
   "execution_count": 29,
   "id": "eb4454f5",
   "metadata": {},
   "outputs": [
    {
     "data": {
      "text/plain": [
       "69.0"
      ]
     },
     "execution_count": 29,
     "metadata": {},
     "output_type": "execute_result"
    }
   ],
   "source": [
    "df_students_performance['writing_score'].quantile(0.50)"
   ]
  },
  {
   "cell_type": "markdown",
   "id": "6518516b",
   "metadata": {},
   "source": [
    "#### Q3"
   ]
  },
  {
   "cell_type": "code",
   "execution_count": 30,
   "id": "e80e62bd",
   "metadata": {},
   "outputs": [
    {
     "data": {
      "text/plain": [
       "79.0"
      ]
     },
     "execution_count": 30,
     "metadata": {},
     "output_type": "execute_result"
    }
   ],
   "source": [
    "df_students_performance['writing_score'].quantile(0.75)"
   ]
  },
  {
   "cell_type": "markdown",
   "id": "28e771e9",
   "metadata": {},
   "source": [
    "## Varians"
   ]
  },
  {
   "cell_type": "markdown",
   "id": "11be0d03",
   "metadata": {},
   "source": [
    "### reading_score"
   ]
  },
  {
   "cell_type": "code",
   "execution_count": 31,
   "id": "3ed37d4a",
   "metadata": {},
   "outputs": [
    {
     "data": {
      "text/plain": [
       "213.1656046046047"
      ]
     },
     "execution_count": 31,
     "metadata": {},
     "output_type": "execute_result"
    }
   ],
   "source": [
    "df_students_performance['reading_score'].var()"
   ]
  },
  {
   "cell_type": "markdown",
   "id": "1b55f411",
   "metadata": {},
   "source": [
    "### writing_score"
   ]
  },
  {
   "cell_type": "code",
   "execution_count": 32,
   "id": "9b71e81b",
   "metadata": {},
   "outputs": [
    {
     "data": {
      "text/plain": [
       "230.90799199199168"
      ]
     },
     "execution_count": 32,
     "metadata": {},
     "output_type": "execute_result"
    }
   ],
   "source": [
    "df_students_performance['writing_score'].var()"
   ]
  },
  {
   "cell_type": "markdown",
   "id": "e14d91e6",
   "metadata": {},
   "source": [
    "## Standar Deviasi"
   ]
  },
  {
   "cell_type": "markdown",
   "id": "69d9664b",
   "metadata": {},
   "source": [
    "### reading_score"
   ]
  },
  {
   "cell_type": "code",
   "execution_count": 33,
   "id": "4d936f16",
   "metadata": {},
   "outputs": [
    {
     "data": {
      "text/plain": [
       "14.60019193725222"
      ]
     },
     "execution_count": 33,
     "metadata": {},
     "output_type": "execute_result"
    }
   ],
   "source": [
    "df_students_performance['reading_score'].std()"
   ]
  },
  {
   "cell_type": "markdown",
   "id": "a0451970",
   "metadata": {},
   "source": [
    "### writing_score"
   ]
  },
  {
   "cell_type": "code",
   "execution_count": 34,
   "id": "7cd21268",
   "metadata": {},
   "outputs": [
    {
     "data": {
      "text/plain": [
       "15.195657010869642"
      ]
     },
     "execution_count": 34,
     "metadata": {},
     "output_type": "execute_result"
    }
   ],
   "source": [
    "df_students_performance['writing_score'].std()"
   ]
  },
  {
   "cell_type": "markdown",
   "id": "1dbfa7c2",
   "metadata": {},
   "source": [
    "# D. Buat Grafik data Variabel reading_score dan writing_score: Histogram, BOX PLOT, dan Tentukan Nilai Skewness dan Kurtosis. Buat interpretasi saudara tentang perbedaan distribusi kedua variable tersebut, terutama pada gambar BOX PLOT dan nilai Skewness - Kurtosisnya."
   ]
  },
  {
   "cell_type": "markdown",
   "id": "7031bc49",
   "metadata": {},
   "source": [
    "## Histogram"
   ]
  },
  {
   "cell_type": "code",
   "execution_count": 35,
   "id": "50890249",
   "metadata": {},
   "outputs": [
    {
     "data": {
      "text/plain": [
       "<AxesSubplot:>"
      ]
     },
     "execution_count": 35,
     "metadata": {},
     "output_type": "execute_result"
    },
    {
     "data": {
      "image/png": "[encoded data removed]",
      "text/plain": [
       "<Figure size 432x288 with 1 Axes>"
      ]
     },
     "metadata": {
      "needs_background": "light"
     },
     "output_type": "display_data"
    }
   ],
   "source": [
    "df_students_performance['reading_score'].sort_values().reset_index(drop=True).hist()"
   ]
  },
  {
   "cell_type": "code",
   "execution_count": 36,
   "id": "c9b9dade",
   "metadata": {},
   "outputs": [
    {
     "data": {
      "text/plain": [
       "<AxesSubplot:>"
      ]
     },
     "execution_count": 36,
     "metadata": {},
     "output_type": "execute_result"
    },
    {
     "data": {
      "image/png": "[encoded data removed]",
      "text/plain": [
       "<Figure size 432x288 with 1 Axes>"
      ]
     },
     "metadata": {
      "needs_background": "light"
     },
     "output_type": "display_data"
    }
   ],
   "source": [
    "df_students_performance['writing_score'].sort_values().reset_index(drop=True).hist()"
   ]
  },
  {
   "cell_type": "markdown",
   "id": "1643d356",
   "metadata": {},
   "source": [
    "## Box Plot"
   ]
  },
  {
   "cell_type": "code",
   "execution_count": 37,
   "id": "47b83734",
   "metadata": {
    "scrolled": true
   },
   "outputs": [
    {
     "data": {
      "text/plain": [
       "<AxesSubplot:>"
      ]
     },
     "execution_count": 37,
     "metadata": {},
     "output_type": "execute_result"
    },
    {
     "data": {
      "image/png": "[encoded data removed]",
      "text/plain": [
       "<Figure size 432x288 with 1 Axes>"
      ]
     },
     "metadata": {
      "needs_background": "light"
     },
     "output_type": "display_data"
    }
   ],
   "source": [
    "df_students_performance.boxplot(column = ['reading_score', 'writing_score'])"
   ]
  },
  {
   "cell_type": "markdown",
   "id": "9aa9acb5",
   "metadata": {},
   "source": [
    "## Skewness"
   ]
  },
  {
   "cell_type": "markdown",
   "id": "89cd653b",
   "metadata": {},
   "source": [
    "### reading_score"
   ]
  },
  {
   "cell_type": "code",
   "execution_count": 38,
   "id": "9174bed9",
   "metadata": {},
   "outputs": [
    {
     "data": {
      "text/plain": [
       "-0.25910451810923063"
      ]
     },
     "execution_count": 38,
     "metadata": {},
     "output_type": "execute_result"
    }
   ],
   "source": [
    "df_students_performance['reading_score'].skew()"
   ]
  },
  {
   "cell_type": "markdown",
   "id": "cfc61f45",
   "metadata": {},
   "source": [
    "### writing_score"
   ]
  },
  {
   "cell_type": "code",
   "execution_count": 39,
   "id": "446b1ac8",
   "metadata": {},
   "outputs": [
    {
     "data": {
      "text/plain": [
       "-0.28944397150761897"
      ]
     },
     "execution_count": 39,
     "metadata": {},
     "output_type": "execute_result"
    }
   ],
   "source": [
    "df_students_performance['writing_score'].skew()"
   ]
  },
  {
   "cell_type": "markdown",
   "id": "1fff49c9",
   "metadata": {},
   "source": [
    "## Kurtosis"
   ]
  },
  {
   "cell_type": "markdown",
   "id": "9d813911",
   "metadata": {},
   "source": [
    "### reading_score"
   ]
  },
  {
   "cell_type": "code",
   "execution_count": 40,
   "id": "8fb7f414",
   "metadata": {},
   "outputs": [
    {
     "data": {
      "text/plain": [
       "-0.0682654585647704"
      ]
     },
     "execution_count": 40,
     "metadata": {},
     "output_type": "execute_result"
    }
   ],
   "source": [
    "df_students_performance['reading_score'].kurtosis()"
   ]
  },
  {
   "cell_type": "markdown",
   "id": "f050454c",
   "metadata": {},
   "source": [
    "### writing_score"
   ]
  },
  {
   "cell_type": "code",
   "execution_count": 41,
   "id": "3ff92e33",
   "metadata": {},
   "outputs": [
    {
     "data": {
      "text/plain": [
       "-0.03336461500693577"
      ]
     },
     "execution_count": 41,
     "metadata": {},
     "output_type": "execute_result"
    }
   ],
   "source": [
    "df_students_performance['writing_score'].kurtosis()"
   ]
  },
  {
   "cell_type": "markdown",
   "id": "c68186e6",
   "metadata": {},
   "source": [
    "# E. Buat scater plot antara writing_score (dependent variable-Y) versus reading_score (independent variable-X). Tulis interpretasi saudara apakah ada indikasi hubungan liear antar keduanya."
   ]
  },
  {
   "cell_type": "markdown",
   "id": "24261b1a",
   "metadata": {},
   "source": [
    "## Scater Plot"
   ]
  },
  {
   "cell_type": "code",
   "execution_count": 42,
   "id": "ef8e91c0",
   "metadata": {},
   "outputs": [
    {
     "data": {
      "text/plain": [
       "<AxesSubplot:xlabel='reading_score', ylabel='writing_score'>"
      ]
     },
     "execution_count": 42,
     "metadata": {},
     "output_type": "execute_result"
    },
    {
     "data": {
      "image/png": "[encoded data removed]",
      "text/plain": [
       "<Figure size 432x288 with 1 Axes>"
      ]
     },
     "metadata": {
      "needs_background": "light"
     },
     "output_type": "display_data"
    }
   ],
   "source": [
    "df_students_performance.plot.scatter(x='reading_score',\n",
    "                                     y='writing_score',\n",
    "                                     c='DarkBlue'\n",
    "                                    )"
   ]
  }
 ],
 "metadata": {
  "kernelspec": {
   "display_name": "Python 3 (ipykernel)",
   "language": "python",
   "name": "python3"
  },
  "language_info": {
   "codemirror_mode": {
    "name": "ipython",
    "version": 3
   },
   "file_extension": ".py",
   "mimetype": "text/x-python",
   "name": "python",
   "nbconvert_exporter": "python",
   "pygments_lexer": "ipython3",
   "version": "3.8.8"
  }
 },
 "nbformat": 4,
 "nbformat_minor": 5
}
